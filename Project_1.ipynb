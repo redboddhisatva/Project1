{
  "nbformat": 4,
  "nbformat_minor": 0,
  "metadata": {
    "colab": {
      "provenance": []
    },
    "kernelspec": {
      "name": "python3",
      "display_name": "Python 3"
    },
    "language_info": {
      "name": "python"
    }
  },
  "cells": [
    {
      "cell_type": "code",
      "execution_count": 1,
      "metadata": {
        "colab": {
          "base_uri": "https://localhost:8080/"
        },
        "id": "LP2ULcfwyT05",
        "outputId": "6980532d-6b86-4daf-992d-7ecb30a74107"
      },
      "outputs": [
        {
          "output_type": "stream",
          "name": "stdout",
          "text": [
            "Masukan Username kamu: ekky\n",
            "Masukan Passwdord kamu: 1231\n",
            "Login gagal. Username atau Password kamu salah. Masukan dengan benar, ya.\n",
            "Masukan Username kamu: ekky\n",
            "Masukan Passwdord kamu: 123i\n",
            "Login sukses. Selamat berbelanja!\n"
          ]
        }
      ],
      "source": [
        "class Login:\n",
        "    def __init__(self, username, password):\n",
        "        self.username = username\n",
        "        self.password = password\n",
        "        self.user_credentials = {\n",
        "            \"ekky\": \"123i\",\n",
        "        }\n",
        "\n",
        "    def check_credentials(self):\n",
        "        if self.username in self.user_credentials and self.user_credentials[self.username] == self.password:\n",
        "            return True\n",
        "        else:\n",
        "            return False\n",
        "\n",
        "\n",
        "while True:\n",
        "\n",
        "    username = input(\"Masukan Username kamu: \")\n",
        "    password = input(\"Masukan Passwdord kamu: \")\n",
        "\n",
        "    login = Login(username, password)\n",
        "\n",
        "    if login.check_credentials():\n",
        "        print(\"Login sukses. Selamat berbelanja!\")\n",
        "        break\n",
        "    else:\n",
        "        print(\"Login gagal. Username atau Password kamu salah. Masukan dengan benar, ya.\")"
      ]
    },
    {
      "cell_type": "code",
      "source": [
        "class Transaction:\n",
        "    def __init__(self):\n",
        "        self.products = []\n",
        "        self.amount = 0\n",
        "\n",
        "    def add_product(self, name, price, qty):\n",
        "        amount = 0\n",
        "        product = {\"Nama Produk\": name, \"Harga\": price, \"Jumlah\": qty}\n",
        "        self.products.append(product)\n",
        "        print(\"Produk berhasil ditambahkan!\")\n",
        "        \n",
        "        print(\"Keranjang Belanja:\")\n",
        "        print(\"{:<10} {:<10} {:<10}\".format(\"Nama\", \"Harga\", \"Jumlah\",))\n",
        "        for product in self.products:\n",
        "            self.amount += product['Harga'] * product['Jumlah']\n",
        "            print(\"{:<10} {:<10} {:<10}\".format(product[\"Nama Produk\"], product[\"Harga\"], product[\"Jumlah\"]))\n",
        "        \n",
        "\n",
        "    def update_product(self, name, price, qty):\n",
        "        index = int(input(\"Masukkan nomor item yang ingin diubah: \")) - 1\n",
        "        field = input(\"Ubah item, harga, atau jumlah (item/harga/jumlah)? \")\n",
        "        if field.lower() == \"item\":\n",
        "            new_value = input(\"Masukkan nama item baru: \")\n",
        "            self.products[index][0] = new_value\n",
        "        elif field.lower() == \"harga\":\n",
        "            try:\n",
        "                new_value = int(input(\"Masukkan harga baru: \"))\n",
        "            except ValueError:\n",
        "                print(\"Masukan input angka dengan benar.\")\n",
        "                return\n",
        "            self.products[index][1] = new_value\n",
        "        elif field.lower() == \"jumlah\":\n",
        "            try:\n",
        "                new_value = int(input(\"Masukkan jumlah baru: \"))\n",
        "            except ValueError:\n",
        "                print(\"Masukan input angka dengan benar.\")\n",
        "                return\n",
        "            self.products[index][2] = new_value\n",
        "            print(\"Pesanan berhasil diubah.\")\n",
        "            \n",
        "        print(\"Keranjang belanja kamu :\")\n",
        "        for product in self.products:\n",
        "            print(\"{:<10} {:<10} {:<10}\".format(\"Nama\", \"Harga\", \"Jumlah\"))\n",
        "            print(\"{:<10} {:<10} {:<10}\".format(product[\"Nama Produk\"], product[\"Harga\"], product[\"Jumlah\"]))\n",
        "        return self.products\n",
        "\n",
        "    def delete(self, name, price, qty):\n",
        "        index = int(input(\"Masukkan nomor item yang ingin dihapus: \")) - 1\n",
        "        del self.products[index]\n",
        "        print(\"Pesanan berhasil dihapus.\")\n",
        "        print(\"Sekarang keranjang belanja Kamu berisi:\")\n",
        "        for product in self.products:\n",
        "            print(\"{:<10} {:<10} {:<10}\".format(\"Nama\", \"Harga\", \"Jumlah\"))\n",
        "            print(\"{:<10} {:<10} {:<10}\".format(product[\"Nama Produk\"], product[\"Harga\"], product[\"Jumlah\"]))\n",
        "        return self.products\n",
        "        \n",
        "    def checkout(self):\n",
        "        discount = 0\n",
        "        total = self.amount \n",
        "        if total >= 500000:\n",
        "            discount = 0.1\n",
        "        elif total >= 300000:\n",
        "            discount = 0.06\n",
        "        elif total >= 200000:\n",
        "            discount = 0.05\n",
        "\n",
        "        total = total - (total * discount)\n",
        "        print(f\"Total yang harus Kamu bayar adalah Rp {total}\")\n",
        "        print(\"Terima kasih sudah belanja, ya!\")"
      ],
      "metadata": {
        "id": "Pk6hXvciyjYz"
      },
      "execution_count": 7,
      "outputs": []
    },
    {
      "cell_type": "code",
      "source": [
        "transaction = Transaction()\n",
        "\n",
        "while True:\n",
        "    print(\"Kamu mau ngapain, nih?\")\n",
        "    print(\"1. Belanja\")\n",
        "    print(\"2. Ubah belanjaan kamu\")\n",
        "    print(\"3. Hapus produk\")\n",
        "    print(\"4. Checkout\")\n",
        "    print(\"5. Exit\")\n",
        "        \n",
        "    choice = int(input(\"Masukan pilihan kamu: \"))\n",
        "    if choice == 1:\n",
        "        while True:\n",
        "            name = input(\"Masukan nama produk: \")\n",
        "            try:\n",
        "                price = float(input(\"Masukan harga produk: \"))\n",
        "                qty = int(input(\"Masukan jumlah produk: \"))\n",
        "            except ValueError:\n",
        "                print(\"Masukan harga dan qty dengan angka.\")\n",
        "                continue\n",
        "            transaction.add_product(name, price, qty)\n",
        "            add_more = input(\"Tambah belanjaan kamu? (ya/tidak)\")\n",
        "            if add_more.lower () == \"tidak\":\n",
        "                break \n",
        "    elif choice == 2:\n",
        "        transaction.update_product(name, price, qty)\n",
        "    elif choice == 3:\n",
        "        transaction.delete(name, price, qty)\n",
        "    elif choice == 4:\n",
        "        transaction.checkout()\n",
        "        break\n",
        "    elif choice == 5:\n",
        "        break\n",
        "    else:\n",
        "        print(\"Invalid choice\")"
      ],
      "metadata": {
        "colab": {
          "base_uri": "https://localhost:8080/"
        },
        "id": "0KF1j2YvypJz",
        "outputId": "40223294-22ab-4216-fac7-758964f6c460"
      },
      "execution_count": 8,
      "outputs": [
        {
          "output_type": "stream",
          "name": "stdout",
          "text": [
            "Kamu mau ngapain, nih?\n",
            "1. Belanja\n",
            "2. Ubah belanjaan kamu\n",
            "3. Hapus produk\n",
            "4. Checkout\n",
            "5. Exit\n",
            "Masukan pilihan kamu: 1\n",
            "Masukan nama produk: vios\n",
            "Masukan harga produk: 100000000\n",
            "Masukan jumlah produk: 1\n",
            "Produk berhasil ditambahkan!\n",
            "Keranjang Belanja:\n",
            "Nama       Harga      Jumlah    \n",
            "vios       100000000.0 1         \n",
            "Tambah belanjaan kamu? (ya/tidak)tidak\n",
            "Kamu mau ngapain, nih?\n",
            "1. Belanja\n",
            "2. Ubah belanjaan kamu\n",
            "3. Hapus produk\n",
            "4. Checkout\n",
            "5. Exit\n",
            "Masukan pilihan kamu: 4\n",
            "Total yang harus Kamu bayar adalah Rp 90000000.0\n",
            "Terima kasih sudah belanja, ya!\n"
          ]
        }
      ]
    },
    {
      "cell_type": "code",
      "source": [],
      "metadata": {
        "id": "7AGNvXwzzcXp"
      },
      "execution_count": null,
      "outputs": []
    }
  ]
}